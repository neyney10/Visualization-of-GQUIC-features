{
 "metadata": {
  "language_info": {
   "codemirror_mode": {
    "name": "ipython",
    "version": 3
   },
   "file_extension": ".py",
   "mimetype": "text/x-python",
   "name": "python",
   "nbconvert_exporter": "python",
   "pygments_lexer": "ipython3",
   "version": "3.6.7-final"
  },
  "orig_nbformat": 2,
  "kernelspec": {
   "name": "python_defaultSpec_1599354479910",
   "display_name": "Python 3.6.7 64-bit"
  }
 },
 "nbformat": 4,
 "nbformat_minor": 2,
 "cells": [
  {
   "cell_type": "markdown",
   "metadata": {},
   "source": [
    "# Fields CSV to wireshark preferences file format script\n",
    "\n",
    "Fields website: https://www.wireshark.org/docs/dfref/g/gquic.html \n",
    "\n",
    "HTML table to csv extractor: https://www.convertcsv.com/html-table-to-csv.htm\n",
    "\n",
    "## How to use:\n",
    "Open the \"HTML table to csv extractor\" and insert there as URL the \"fields website\" to make it generate a CSV file, download the contents into CSV and run this script.\n",
    "\n",
    "Note: Don't forget to update the filename's path in this script to process the correct file.\n",
    "\n",
    "## Imports:"
   ]
  },
  {
   "cell_type": "code",
   "execution_count": 1,
   "metadata": {},
   "outputs": [],
   "source": [
    "import pandas as pd\n",
    "import csv"
   ]
  },
  {
   "cell_type": "markdown",
   "metadata": {},
   "source": [
    "## Loading CSV:"
   ]
  },
  {
   "cell_type": "code",
   "execution_count": 2,
   "metadata": {},
   "outputs": [],
   "source": [
    "fields = pd.read_csv('./EXPORTED_GQUIC_FIELDS_WIRESHARK.csv')"
   ]
  },
  {
   "cell_type": "markdown",
   "metadata": {},
   "source": [
    "## Process"
   ]
  },
  {
   "cell_type": "code",
   "execution_count": 3,
   "metadata": {},
   "outputs": [],
   "source": [
    "field_names = fields['Field name']\n",
    "field_names = field_names.transform(lambda fd: '%Cus:'+fd+':0:R')\n",
    "\n",
    "field_descriptions = fields['Description']\n",
    "\n",
    "result = pd.DataFrame({\"Column Name\" : field_descriptions,\n",
    "                        \"Wireshark Tag\": field_names })"
   ]
  },
  {
   "cell_type": "markdown",
   "metadata": {},
   "source": [
    "## Save to file"
   ]
  },
  {
   "cell_type": "code",
   "execution_count": 4,
   "metadata": {},
   "outputs": [],
   "source": [
    "result.to_csv('wireshark-columns.csv', index=False, header=False, quoting=csv.QUOTE_NONNUMERIC, line_terminator=',\\n')\n"
   ]
  }
 ]
}