{
 "metadata": {
  "language_info": {
   "codemirror_mode": {
    "name": "ipython",
    "version": 3
   },
   "file_extension": ".py",
   "mimetype": "text/x-python",
   "name": "python",
   "nbconvert_exporter": "python",
   "pygments_lexer": "ipython3",
   "version": "3.6.7-final"
  },
  "orig_nbformat": 2,
  "kernelspec": {
   "name": "python_defaultSpec_1599391351576",
   "display_name": "Python 3.6.7 64-bit"
  }
 },
 "nbformat": 4,
 "nbformat_minor": 2,
 "cells": [
  {
   "cell_type": "markdown",
   "metadata": {},
   "source": [
    "# Fields CSV to tshark executation string format script\n",
    "\n",
    "Fields website: https://www.wireshark.org/docs/dfref/g/gquic.html \n",
    "\n",
    "HTML table to csv extractor: https://www.convertcsv.com/html-table-to-csv.htm\n",
    "\n",
    "## How to use:\n",
    "Open the \"HTML table to csv extractor\" and insert there as URL the \"fields website\" to make it generate a CSV file, download the contents into CSV and run this script.\n",
    "\n",
    "Note: Don't forget to update the filename's path in this script to process the correct file.\n",
    "\n",
    "## Imports:"
   ]
  },
  {
   "cell_type": "code",
   "execution_count": 1,
   "metadata": {},
   "outputs": [],
   "source": [
    "import pandas as pd\n",
    "import csv\n",
    "import os"
   ]
  },
  {
   "cell_type": "markdown",
   "metadata": {},
   "source": [
    "## Configure executable string"
   ]
  },
  {
   "cell_type": "code",
   "execution_count": 2,
   "metadata": {},
   "outputs": [],
   "source": [
    "inputPCAPFilepath = \"record_2020_08_21_RPI_OnePlus6_x3_23.pcapng\" #<pcap-filename>\n",
    "outputCSVFilepath = \"output-pcap.csv\" #<output-csv-filename>\n",
    "filterBy = \"gquic\""
   ]
  },
  {
   "cell_type": "markdown",
   "metadata": {},
   "source": [
    "## Loading CSV:\n",
    "Don't forget to change the filepath to point to the desired CSV file."
   ]
  },
  {
   "cell_type": "code",
   "execution_count": 3,
   "metadata": {},
   "outputs": [],
   "source": [
    "fields = pd.read_csv('./EXPORTED_GQUIC_FIELDS_WIRESHARK.csv')"
   ]
  },
  {
   "cell_type": "markdown",
   "metadata": {},
   "source": [
    "## Process\n",
    "### Add default fields such as source ip and time."
   ]
  },
  {
   "cell_type": "code",
   "execution_count": 4,
   "metadata": {},
   "outputs": [],
   "source": [
    "field_names = fields['Field name']\n",
    "\n",
    "basicFields = pd.Series([\"frame.number\", \"frame.time_relative\", \"frame.len\",\"ip.src\",\"ip.dst\",\"udp.srcport\", \"udp.dstport\"])\n",
    "field_names = field_names.append(basicFields)"
   ]
  },
  {
   "cell_type": "markdown",
   "metadata": {},
   "source": [
    "Format the rest of the fields loaded from CSV file to tshark executable string."
   ]
  },
  {
   "cell_type": "code",
   "execution_count": 5,
   "metadata": {},
   "outputs": [],
   "source": [
    "execString = \"tshark -r \" + inputPCAPFilepath + \" -T fields\"\n",
    "for field in field_names:\n",
    "    execString = execString +\" -e \" + field\n",
    "\n",
    "execString = execString + \" -E header=y -E separator=, -E quote=d -Y \" + filterBy + \" > \" + outputCSVFilepath"
   ]
  },
  {
   "cell_type": "markdown",
   "metadata": {},
   "source": [
    "## Print executable string to notebook"
   ]
  },
  {
   "cell_type": "code",
   "execution_count": 8,
   "metadata": {},
   "outputs": [
    {
     "output_type": "execute_result",
     "data": {
      "text/plain": "'tshark -r record_2020_08_21_RPI_OnePlus6_x3_23.pcapng -T fields -e gquic.cid -e gquic.data_len -e gquic.diversification_nonce -e gquic.frame -e gquic.frame_type -e gquic.frame_type.ack -e gquic.frame_type.ack.ack_block_length -e gquic.frame_type.ack.ack_delay_time -e gquic.frame_type.ack.delta_largest_acked -e gquic.frame_type.ack.delta_largest_observed -e gquic.frame_type.ack.first_ack_block_length -e gquic.frame_type.ack.first_timestamp -e gquic.frame_type.ack.gap_to_next_block -e gquic.frame_type.ack.largest_acked -e gquic.frame_type.ack.largest_acked_delta_time -e gquic.frame_type.ack.largest_observed -e gquic.frame_type.ack.ll -e gquic.frame_type.ack.missing_packet -e gquic.frame_type.ack.mm -e gquic.frame_type.ack.n -e gquic.frame_type.ack.num_blocks -e gquic.frame_type.ack.num_ranges -e gquic.frame_type.ack.num_revived -e gquic.frame_type.ack.num_timestamp -e gquic.frame_type.ack.range_length -e gquic.frame_type.ack.received_entropy -e gquic.frame_type.ack.revived_packet -e gquic.frame_type.ack.t -e gquic.frame_type.ack.time_since_largest_acked -e gquic.frame_type.ack.time_since_previous_timestamp -e gquic.frame_type.ack.u -e gquic.frame_type.blocked.stream_id -e gquic.frame_type.cc.error_code -e gquic.frame_type.cc.reason_phrase -e gquic.frame_type.cc.reason_phrase.length -e gquic.frame_type.goaway.error_code -e gquic.frame_type.goaway.last_good_stream_id -e gquic.frame_type.goaway.reason_phrase -e gquic.frame_type.goaway.reason_phrase.length -e gquic.frame_type.padding -e gquic.frame_type.padding.length -e gquic.frame_type.rsts.byte_offset -e gquic.frame_type.rsts.error_code -e gquic.frame_type.rsts.stream_id -e gquic.frame_type.stream -e gquic.frame_type.stream.d -e gquic.frame_type.stream.f -e gquic.frame_type.stream.ooo -e gquic.frame_type.stream.ss -e gquic.frame_type.sw.least_unacked_delta -e gquic.frame_type.sw.send_entropy -e gquic.frame_type.wu.byte_offset -e gquic.frame_type.wu.stream_id -e gquic.message_authentication_hash -e gquic.offset -e gquic.packet_number -e gquic.padding -e gquic.payload -e gquic.prflags -e gquic.prflags.entropy -e gquic.prflags.fec -e gquic.prflags.fecg -e gquic.prflags.rsv -e gquic.puflags -e gquic.puflags.cid -e gquic.puflags.cid.old -e gquic.puflags.mpth -e gquic.puflags.nonce -e gquic.puflags.pkn -e gquic.puflags.reset -e gquic.puflags.rsv -e gquic.puflags.version -e gquic.stream_data -e gquic.stream_id -e gquic.tag -e gquic.tag.aead -e gquic.tag.caddr.addr -e gquic.tag.caddr.addr.ipv4 -e gquic.tag.caddr.addr.ipv6 -e gquic.tag.caddr.addr.type -e gquic.tag.caddr.port -e gquic.tag.ccrt -e gquic.tag.ccs -e gquic.tag.cetv -e gquic.tag.cfcw -e gquic.tag.copt -e gquic.tag.crt -e gquic.tag.csct -e gquic.tag.ctim -e gquic.tag.expy -e gquic.tag.fhol -e gquic.tag.icsl -e gquic.tag.irtt -e gquic.tag.kexs -e gquic.tag.length.truncated -e gquic.tag.mids -e gquic.tag.mspc -e gquic.tag.nonc -e gquic.tag.nonp -e gquic.tag.obit -e gquic.tag.pad -e gquic.tag.pdmd -e gquic.tag.prof -e gquic.tag.pubs -e gquic.tag.rnon -e gquic.tag.rrej -e gquic.tag.rseq -e gquic.tag.scfg -e gquic.tag.scfg.number -e gquic.tag.scid -e gquic.tag.scls -e gquic.tag.sfcw -e gquic.tag.smhl -e gquic.tag.sni -e gquic.tag.sno -e gquic.tag.srbf -e gquic.tag.stk -e gquic.tag.sttl -e gquic.tag.tbkp -e gquic.tag.tcid -e gquic.tag.uaid -e gquic.tag.undecoded -e gquic.tag.unknown -e gquic.tag.unknown.data -e gquic.tag.version -e gquic.tag.xlct -e gquic.tag_number -e gquic.tag_offset_end -e gquic.tag_offset_length -e gquic.tag_type -e gquic.tag_value -e gquic.tags -e gquic.version -e gquic.version.invalid -e frame.number -e frame.time_relative -e frame.len -e ip.src -e ip.dst -e udp.srcport -e udp.dstport -E header=y -E separator=, -E quote=d -Y gquic > output-pcap.csv'"
     },
     "metadata": {},
     "execution_count": 8
    }
   ],
   "source": [
    "execString"
   ]
  },
  {
   "cell_type": "markdown",
   "metadata": {},
   "source": [
    "## Save to file\n",
    "Don't forget to change the filepath to point to the desired output file."
   ]
  },
  {
   "cell_type": "code",
   "execution_count": 7,
   "metadata": {},
   "outputs": [],
   "source": [
    "f = open(\"tshark-exec-string.txt\", mode=\"wt\")\n",
    "f.write(execString)\n",
    "f.close()"
   ]
  }
 ]
}